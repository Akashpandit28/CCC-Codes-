{
 "cells": [
  {
   "cell_type": "code",
   "execution_count": 2,
   "id": "f948d3b6",
   "metadata": {},
   "outputs": [
    {
     "name": "stdout",
     "output_type": "stream",
     "text": [
      "No of students6\n"
     ]
    },
    {
     "ename": "NameError",
     "evalue": "name 'n' is not defined",
     "output_type": "error",
     "traceback": [
      "\u001b[1;31m---------------------------------------------------------------------------\u001b[0m",
      "\u001b[1;31mNameError\u001b[0m                                 Traceback (most recent call last)",
      "\u001b[1;32m~\\AppData\\Local\\Temp/ipykernel_7884/3147992130.py\u001b[0m in \u001b[0;36m<module>\u001b[1;34m\u001b[0m\n\u001b[0;32m      1\u001b[0m \u001b[0mN\u001b[0m\u001b[1;33m=\u001b[0m\u001b[0mint\u001b[0m\u001b[1;33m(\u001b[0m\u001b[0minput\u001b[0m\u001b[1;33m(\u001b[0m\u001b[1;34m\"No of students\"\u001b[0m\u001b[1;33m)\u001b[0m\u001b[1;33m)\u001b[0m\u001b[1;33m\u001b[0m\u001b[1;33m\u001b[0m\u001b[0m\n\u001b[0;32m      2\u001b[0m \u001b[0mdict1\u001b[0m\u001b[1;33m=\u001b[0m\u001b[1;33m{\u001b[0m\u001b[1;33m}\u001b[0m\u001b[1;33m\u001b[0m\u001b[1;33m\u001b[0m\u001b[0m\n\u001b[1;32m----> 3\u001b[1;33m \u001b[1;32mfor\u001b[0m \u001b[0mi\u001b[0m \u001b[1;32min\u001b[0m \u001b[0mrange\u001b[0m\u001b[1;33m(\u001b[0m\u001b[0mn\u001b[0m\u001b[1;33m)\u001b[0m\u001b[1;33m:\u001b[0m\u001b[1;33m\u001b[0m\u001b[1;33m\u001b[0m\u001b[0m\n\u001b[0m\u001b[0;32m      4\u001b[0m     \u001b[0mRegisternumber\u001b[0m\u001b[1;33m=\u001b[0m\u001b[0minput\u001b[0m\u001b[1;33m(\u001b[0m\u001b[1;34m\"Enter students register number\"\u001b[0m\u001b[1;33m)\u001b[0m\u001b[1;33m\u001b[0m\u001b[1;33m\u001b[0m\u001b[0m\n\u001b[0;32m      5\u001b[0m     \u001b[0mmark1\u001b[0m\u001b[1;33m=\u001b[0m\u001b[0mfloat\u001b[0m\u001b[1;33m(\u001b[0m\u001b[0minput\u001b[0m\u001b[1;33m(\u001b[0m\u001b[1;34m\"Enter mark1\"\u001b[0m\u001b[1;33m)\u001b[0m\u001b[1;33m)\u001b[0m\u001b[1;33m\u001b[0m\u001b[1;33m\u001b[0m\u001b[0m\n",
      "\u001b[1;31mNameError\u001b[0m: name 'n' is not defined"
     ]
    }
   ],
   "source": [
    "N=int(input(\"No of students\"))\n",
    "dict1={}\n",
    "for i in range(n):\n",
    "    Registernumber=input(\"Enter students register number\")\n",
    "    mark1=float(input(\"Enter mark1\"))\n",
    "    mark2=float(input(\"Enter mark2\"))\n",
    "    mark3=float(input(\"Enter mark3\"))\n",
    "    mark4=float(input(\"Enter mark4\"))\n",
    "    mark5=float(input(\"Enter mark5\"))\n",
    "    average=(mark1+mark2+mark3+mark4+mark5)/5\n",
    "    if average>=80:\n",
    "        print(\"A GRADE\")\n",
    "    elif average>=65 and average<80:\n",
    "        print(\"B GRADE\")\n",
    "    elif average>=50 and average<65:\n",
    "        print(\"C GRADE\")\n",
    "    else:\n",
    "        print(\"FAIL\")\n",
    "    dict1[Registernumber]=d\n",
    "for key, value in dict1.items():\n",
    "    print(key, ' : ', value)"
   ]
  },
  {
   "cell_type": "code",
   "execution_count": 4,
   "id": "f08b01ac",
   "metadata": {},
   "outputs": [
    {
     "name": "stdout",
     "output_type": "stream",
     "text": [
      "Enter string :58\n",
      "Enter string :23\n",
      "count is: 0\n"
     ]
    }
   ],
   "source": [
    "enterstring=input(\"Enter string :\")\n",
    "key = input(\"Enter string :\")\n",
    "p=enterstring.count(key)\n",
    "print(\"count is:\",p)"
   ]
  },
  {
   "cell_type": "code",
   "execution_count": null,
   "id": "11b3d898",
   "metadata": {},
   "outputs": [],
   "source": [
    "k=input(\"enter any value\")\n",
    "list1=k.split()\n",
    "count=0\n",
    "for i in range(o,len(list1)):\n",
    "    p=len(ist1[0])\n",
    "    if p>=2 and list[i][0]==list[i][p-1]:\n",
    "        count+=1\n"
   ]
  }
 ],
 "metadata": {
  "kernelspec": {
   "display_name": "Python 3 (ipykernel)",
   "language": "python",
   "name": "python3"
  },
  "language_info": {
   "codemirror_mode": {
    "name": "ipython",
    "version": 3
   },
   "file_extension": ".py",
   "mimetype": "text/x-python",
   "name": "python",
   "nbconvert_exporter": "python",
   "pygments_lexer": "ipython3",
   "version": "3.9.7"
  }
 },
 "nbformat": 4,
 "nbformat_minor": 5
}
