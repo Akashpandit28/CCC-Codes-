{
 "cells": [
  {
   "cell_type": "code",
   "execution_count": 7,
   "id": "a609922f",
   "metadata": {},
   "outputs": [
    {
     "name": "stdout",
     "output_type": "stream",
     "text": [
      "Collecting plotlib\n",
      "  Using cached plotlib-0.3.tar.gz (42 kB)\n"
     ]
    },
    {
     "name": "stderr",
     "output_type": "stream",
     "text": [
      "    ERROR: Command errored out with exit status 1:\n",
      "     command: 'C:\\Users\\91920\\anaconda3\\python.exe' -c 'import io, os, sys, setuptools, tokenize; sys.argv[0] = '\"'\"'C:\\\\Users\\\\91920\\\\AppData\\\\Local\\\\Temp\\\\pip-install-mur2ufgv\\\\plotlib_4bd1330cdeb54e669a2f8e5289f84e80\\\\setup.py'\"'\"'; __file__='\"'\"'C:\\\\Users\\\\91920\\\\AppData\\\\Local\\\\Temp\\\\pip-install-mur2ufgv\\\\plotlib_4bd1330cdeb54e669a2f8e5289f84e80\\\\setup.py'\"'\"';f = getattr(tokenize, '\"'\"'open'\"'\"', open)(__file__) if os.path.exists(__file__) else io.StringIO('\"'\"'from setuptools import setup; setup()'\"'\"');code = f.read().replace('\"'\"'\\r\\n'\"'\"', '\"'\"'\\n'\"'\"');f.close();exec(compile(code, __file__, '\"'\"'exec'\"'\"'))' egg_info --egg-base 'C:\\Users\\91920\\AppData\\Local\\Temp\\pip-pip-egg-info-cbgyfq17'\n",
      "         cwd: C:\\Users\\91920\\AppData\\Local\\Temp\\pip-install-mur2ufgv\\plotlib_4bd1330cdeb54e669a2f8e5289f84e80\\\n",
      "    Complete output (11 lines):\n",
      "    running egg_info\n",
      "    creating C:\\Users\\91920\\AppData\\Local\\Temp\\pip-pip-egg-info-cbgyfq17\\plotlib.egg-info\n",
      "    writing C:\\Users\\91920\\AppData\\Local\\Temp\\pip-pip-egg-info-cbgyfq17\\plotlib.egg-info\\PKG-INFO\n",
      "    writing dependency_links to C:\\Users\\91920\\AppData\\Local\\Temp\\pip-pip-egg-info-cbgyfq17\\plotlib.egg-info\\dependency_links.txt\n",
      "    writing namespace_packages to C:\\Users\\91920\\AppData\\Local\\Temp\\pip-pip-egg-info-cbgyfq17\\plotlib.egg-info\\namespace_packages.txt\n",
      "    writing top-level names to C:\\Users\\91920\\AppData\\Local\\Temp\\pip-pip-egg-info-cbgyfq17\\plotlib.egg-info\\top_level.txt\n",
      "    writing manifest file 'C:\\Users\\91920\\AppData\\Local\\Temp\\pip-pip-egg-info-cbgyfq17\\plotlib.egg-info\\SOURCES.txt'\n",
      "    error: Namespace package problem: plotlib is a namespace package, but its\n",
      "    __init__.py does not call declare_namespace()! Please fix it.\n",
      "    (See the setuptools manual under \"Namespace Packages\" for details.)\n",
      "    \"\n",
      "    ----------------------------------------\n",
      "WARNING: Discarding https://files.pythonhosted.org/packages/16/69/2d797436ead7fbf1123a96f08318029f52893f5c87a0abc95d1b4caae073/plotlib-0.3.tar.gz#sha256=25078b626d7bd0156605eedc4789286e0ad8a342dc35fdab5bd1cb2101fa2833 (from https://pypi.org/simple/plotlib/). Command errored out with exit status 1: python setup.py egg_info Check the logs for full command output.\n",
      "ERROR: Could not find a version that satisfies the requirement plotlib (from versions: 0.3)\n",
      "ERROR: No matching distribution found for plotlib\n"
     ]
    },
    {
     "ename": "AttributeError",
     "evalue": "module 'warnings' has no attribute 'filterwarning'",
     "output_type": "error",
     "traceback": [
      "\u001b[1;31m---------------------------------------------------------------------------\u001b[0m",
      "\u001b[1;31mAttributeError\u001b[0m                            Traceback (most recent call last)",
      "\u001b[1;32m~\\AppData\\Local\\Temp/ipykernel_15364/589298866.py\u001b[0m in \u001b[0;36m<module>\u001b[1;34m\u001b[0m\n\u001b[0;32m      4\u001b[0m \u001b[1;32mimport\u001b[0m \u001b[0mseaborn\u001b[0m \u001b[1;32mas\u001b[0m \u001b[0msns\u001b[0m\u001b[1;33m\u001b[0m\u001b[1;33m\u001b[0m\u001b[0m\n\u001b[0;32m      5\u001b[0m \u001b[1;32mimport\u001b[0m \u001b[0mwarnings\u001b[0m\u001b[1;33m\u001b[0m\u001b[1;33m\u001b[0m\u001b[0m\n\u001b[1;32m----> 6\u001b[1;33m \u001b[0mwarnings\u001b[0m\u001b[1;33m.\u001b[0m\u001b[0mfilterwarning\u001b[0m\u001b[1;33m(\u001b[0m\u001b[0mactions\u001b[0m\u001b[1;33m=\u001b[0m\u001b[1;34m'ignore'\u001b[0m\u001b[1;33m)\u001b[0m\u001b[1;33m\u001b[0m\u001b[1;33m\u001b[0m\u001b[0m\n\u001b[0m\u001b[0;32m      7\u001b[0m \u001b[0mdf_Swiggy\u001b[0m\u001b[1;33m=\u001b[0m\u001b[0mpd\u001b[0m\u001b[1;33m.\u001b[0m\u001b[0mread_csv\u001b[0m\u001b[1;33m(\u001b[0m\u001b[1;34m'Swiggy.csv'\u001b[0m\u001b[1;33m)\u001b[0m\u001b[1;33m\u001b[0m\u001b[1;33m\u001b[0m\u001b[0m\n\u001b[0;32m      8\u001b[0m \u001b[0mdf_swiggy\u001b[0m\u001b[1;33m\u001b[0m\u001b[1;33m\u001b[0m\u001b[0m\n",
      "\u001b[1;31mAttributeError\u001b[0m: module 'warnings' has no attribute 'filterwarning'"
     ]
    }
   ],
   "source": [
    "import pandas as pd\n",
    "import numpy as np\n",
    "! pip install plotlib\n",
    "import seaborn as sns\n",
    "import plotly.expres as px\n",
    "import warnings\n",
    "warnings.filterwarning(actions='ignore')\n",
    "df_Swiggy=pd.read_csv('Swiggy.csv')\n",
    "df_swiggy"
   ]
  },
  {
   "cell_type": "code",
   "execution_count": null,
   "id": "ee11fec9",
   "metadata": {},
   "outputs": [],
   "source": []
  }
 ],
 "metadata": {
  "kernelspec": {
   "display_name": "Python 3 (ipykernel)",
   "language": "python",
   "name": "python3"
  },
  "language_info": {
   "codemirror_mode": {
    "name": "ipython",
    "version": 3
   },
   "file_extension": ".py",
   "mimetype": "text/x-python",
   "name": "python",
   "nbconvert_exporter": "python",
   "pygments_lexer": "ipython3",
   "version": "3.9.7"
  }
 },
 "nbformat": 4,
 "nbformat_minor": 5
}
