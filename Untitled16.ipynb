{
 "cells": [
  {
   "cell_type": "code",
   "execution_count": 3,
   "id": "173a11d4",
   "metadata": {},
   "outputs": [],
   "source": [
    "def add_string(str1):\n",
    "    length=len(str1)\n",
    "    \n",
    "    if length>2:\n",
    "        if str[-3:]=='ing':\n",
    "            str1+='ly'\n",
    "        else:\n",
    "            str1+='ing'\n",
    "            \n",
    "        return str1\n",
    "    print(add_string('ab'))\n",
    "    print(add_string('abc'))\n",
    "    print(add_string('string'))\n",
    "    "
   ]
  },
  {
   "cell_type": "code",
   "execution_count": 6,
   "id": "360e3fb6",
   "metadata": {},
   "outputs": [
    {
     "name": "stdout",
     "output_type": "stream",
     "text": [
      "pthon\n"
     ]
    }
   ],
   "source": [
    "#remove the any character from any string\n",
    "def remove_char(str,n):\n",
    "    first_part=str[:n]\n",
    "    last_part=str[n+1:]\n",
    "    return first_part+last_part\n",
    "print(remove_char('python',1))"
   ]
  },
  {
   "cell_type": "code",
   "execution_count": 7,
   "id": "48064816",
   "metadata": {},
   "outputs": [
    {
     "name": "stdout",
     "output_type": "stream",
     "text": [
      "['s', 'h', 'a', 'n', 'k', 'e', 'r']\n"
     ]
    }
   ],
   "source": [
    "s=\"shanker\"\n",
    "l=[x for x in s]\n",
    "print(l)"
   ]
  },
  {
   "cell_type": "code",
   "execution_count": null,
   "id": "3acbc03c",
   "metadata": {},
   "outputs": [],
   "source": []
  }
 ],
 "metadata": {
  "kernelspec": {
   "display_name": "Python 3 (ipykernel)",
   "language": "python",
   "name": "python3"
  },
  "language_info": {
   "codemirror_mode": {
    "name": "ipython",
    "version": 3
   },
   "file_extension": ".py",
   "mimetype": "text/x-python",
   "name": "python",
   "nbconvert_exporter": "python",
   "pygments_lexer": "ipython3",
   "version": "3.9.7"
  }
 },
 "nbformat": 4,
 "nbformat_minor": 5
}
