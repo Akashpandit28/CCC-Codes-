{
 "cells": [
  {
   "cell_type": "code",
   "execution_count": 8,
   "id": "c32fc4a7",
   "metadata": {},
   "outputs": [
    {
     "ename": "OperationalError",
     "evalue": "table akash already exists",
     "output_type": "error",
     "traceback": [
      "\u001b[1;31m---------------------------------------------------------------------------\u001b[0m",
      "\u001b[1;31mOperationalError\u001b[0m                          Traceback (most recent call last)",
      "\u001b[1;32m~\\AppData\\Local\\Temp/ipykernel_14188/3593776301.py\u001b[0m in \u001b[0;36m<module>\u001b[1;34m\u001b[0m\n\u001b[0;32m     11\u001b[0m \u001b[0mcrsr\u001b[0m\u001b[1;33m.\u001b[0m\u001b[0mexecute\u001b[0m\u001b[1;33m(\u001b[0m\u001b[0msql_command\u001b[0m\u001b[1;33m)\u001b[0m\u001b[1;33m\u001b[0m\u001b[1;33m\u001b[0m\u001b[0m\n\u001b[0;32m     12\u001b[0m \u001b[0mins\u001b[0m \u001b[1;33m=\u001b[0m\u001b[1;34m\"\"\"INSERT INTO student VALUES(1000,\"alice\",\"alice@gmail.com\",\"male\",70,80,90);\"\"\"\u001b[0m\u001b[1;33m\u001b[0m\u001b[1;33m\u001b[0m\u001b[0m\n\u001b[1;32m---> 13\u001b[1;33m \u001b[0mcrsr\u001b[0m\u001b[1;33m.\u001b[0m\u001b[0mexecute\u001b[0m\u001b[1;33m(\u001b[0m\u001b[0msql_command\u001b[0m\u001b[1;33m)\u001b[0m\u001b[1;33m\u001b[0m\u001b[1;33m\u001b[0m\u001b[0m\n\u001b[0m\u001b[0;32m     14\u001b[0m \u001b[0mans\u001b[0m\u001b[1;33m=\u001b[0m\u001b[0mcrsr\u001b[0m\u001b[1;33m.\u001b[0m\u001b[0mfetchall\u001b[0m\u001b[1;33m(\u001b[0m\u001b[1;33m)\u001b[0m\u001b[1;33m\u001b[0m\u001b[1;33m\u001b[0m\u001b[0m\n\u001b[0;32m     15\u001b[0m \u001b[1;32mfor\u001b[0m \u001b[0mi\u001b[0m  \u001b[1;32min\u001b[0m \u001b[0mans\u001b[0m\u001b[1;33m:\u001b[0m\u001b[1;33m\u001b[0m\u001b[1;33m\u001b[0m\u001b[0m\n",
      "\u001b[1;31mOperationalError\u001b[0m: table akash already exists"
     ]
    }
   ],
   "source": [
    "import sqlite3\n",
    "connection=sqlite3.connect(\"my stud.db\")\n",
    "crsr=connection.cursor()\n",
    "sql_command = \"\"\"CREATE TABLE akash (\n",
    "fname varchar(20),\n",
    "email varchar(20),\n",
    "gender varchar(20),\n",
    "physics int,\n",
    "chemistry int,\n",
    "maths int);\"\"\"\n",
    "crsr.execute(sql_command)\n",
    "ins =\"\"\"INSERT INTO student VALUES(1000,\"alice\",\"alice@gmail.com\",\"male\",70,80,90);\"\"\"\n",
    "crsr.execute(sql_command)\n",
    "ans=crsr.fetchall()\n",
    "for i  in ans:\n",
    "    print(i)\n",
    "    connection.close()\n",
    "    d"
   ]
  },
  {
   "cell_type": "code",
   "execution_count": 12,
   "id": "27b7ac31",
   "metadata": {},
   "outputs": [
    {
     "ename": "OperationalError",
     "evalue": "table akash already exists",
     "output_type": "error",
     "traceback": [
      "\u001b[1;31m---------------------------------------------------------------------------\u001b[0m",
      "\u001b[1;31mOperationalError\u001b[0m                          Traceback (most recent call last)",
      "\u001b[1;32m~\\AppData\\Local\\Temp/ipykernel_14188/3536608054.py\u001b[0m in \u001b[0;36m<module>\u001b[1;34m\u001b[0m\n\u001b[0;32m      9\u001b[0m \u001b[0mchemistry\u001b[0m \u001b[0mint\u001b[0m\u001b[1;33m,\u001b[0m\u001b[1;33m\u001b[0m\u001b[1;33m\u001b[0m\u001b[0m\n\u001b[0;32m     10\u001b[0m maths int);\"\"\"\n\u001b[1;32m---> 11\u001b[1;33m \u001b[0mcrsr\u001b[0m\u001b[1;33m.\u001b[0m\u001b[0mexecute\u001b[0m\u001b[1;33m(\u001b[0m\u001b[0msql_command\u001b[0m\u001b[1;33m)\u001b[0m\u001b[1;33m\u001b[0m\u001b[1;33m\u001b[0m\u001b[0m\n\u001b[0m\u001b[0;32m     12\u001b[0m \u001b[1;33m\u001b[0m\u001b[0m\n\u001b[0;32m     13\u001b[0m \u001b[1;33m\u001b[0m\u001b[0m\n",
      "\u001b[1;31mOperationalError\u001b[0m: table akash already exists"
     ]
    }
   ],
   "source": [
    "import sqlite3\n",
    "connection=sqlite3.connect(\"my stud.db\")\n",
    "crsr=connection.cursor()\n",
    "sql_command = \"\"\"CREATE TABLE akash (\n",
    "fname varchar(20),\n",
    "email varchar(20),\n",
    "gender varchar(20),\n",
    "physics int,\n",
    "chemistry int,\n",
    "maths int);\"\"\"\n",
    "crsr.execute(sql_command)\n",
    "\n",
    "\n",
    "ins =\"\"\"INSERT INTO student VALUES(1000,\"alice\",\"alice@gmail.com\",\"male\",70,80,90);\"\"\"\n",
    "crsr.execute(ins)\n",
    "crsr.execute(cmd)\n",
    "ans=crsr.fetchall()\n",
    "for i  in ans:\n",
    "    print(i)\n",
    "    connection.close()\n",
    "    d"
   ]
  },
  {
   "cell_type": "code",
   "execution_count": 17,
   "id": "edc8c514",
   "metadata": {},
   "outputs": [
    {
     "ename": "OperationalError",
     "evalue": "near \";\": syntax error",
     "output_type": "error",
     "traceback": [
      "\u001b[1;31m---------------------------------------------------------------------------\u001b[0m",
      "\u001b[1;31mOperationalError\u001b[0m                          Traceback (most recent call last)",
      "\u001b[1;32m~\\AppData\\Local\\Temp/ipykernel_14188/1926742273.py\u001b[0m in \u001b[0;36m<module>\u001b[1;34m\u001b[0m\n\u001b[0;32m     10\u001b[0m \u001b[1;33m\u001b[0m\u001b[0m\n\u001b[0;32m     11\u001b[0m \u001b[0ma\u001b[0m\u001b[1;33m=\u001b[0m\u001b[1;34m\"\"\"INSERT INTO ram (\"ganesh\",\"prabhu\",\"male\",\"100\");\"\"\"\u001b[0m\u001b[1;33m\u001b[0m\u001b[1;33m\u001b[0m\u001b[0m\n\u001b[1;32m---> 12\u001b[1;33m \u001b[0mcrsr\u001b[0m\u001b[1;33m.\u001b[0m\u001b[0mexecute\u001b[0m\u001b[1;33m(\u001b[0m\u001b[0ma\u001b[0m\u001b[1;33m)\u001b[0m\u001b[1;33m\u001b[0m\u001b[1;33m\u001b[0m\u001b[0m\n\u001b[0m\u001b[0;32m     13\u001b[0m \u001b[0ma\u001b[0m\u001b[1;33m=\u001b[0m\u001b[1;34m\"\"\"INSERT INTO ram (\"mahadev\",\"prabhu\",\"male\",\"10000\");\"\"\"\u001b[0m\u001b[1;33m\u001b[0m\u001b[1;33m\u001b[0m\u001b[0m\n\u001b[0;32m     14\u001b[0m \u001b[0mcrsr\u001b[0m\u001b[1;33m.\u001b[0m\u001b[0mexecute\u001b[0m\u001b[1;33m(\u001b[0m\u001b[0ma\u001b[0m\u001b[1;33m)\u001b[0m\u001b[1;33m\u001b[0m\u001b[1;33m\u001b[0m\u001b[0m\n",
      "\u001b[1;31mOperationalError\u001b[0m: near \";\": syntax error"
     ]
    }
   ],
   "source": [
    "import sqlite3\n",
    "connection=sqlite3.connect(\"pandit.db\")\n",
    "crsr=connection.cursor()\n",
    "sql_command =\"\"\"CREATE TABLE ram (\n",
    "name varchar(20),\n",
    "last varchar(20),\n",
    "gender varchar(20),\n",
    "age varchar(20));\"\"\"\n",
    "crsr.execute(sql_command)\n",
    "\n",
    "a=\"\"\"INSERT INTO ram (\"ganesh\",\"prabhu\",\"male\",\"100\");\"\"\"\n",
    "crsr.execute(a)\n",
    "a=\"\"\"INSERT INTO ram (\"mahadev\",\"prabhu\",\"male\",\"10000\");\"\"\"\n",
    "crsr.execute(a)\n",
    "a=\"\"\"INSERT INTO ram (\"krishna\",\"prabhu\",\"male\",\"50000\");\"\"\"\n",
    "crsr.execute(a)\n",
    "a=\"\"\"INSERT INTO ram (\"saraswati\",\"mata\",\"female\",\"10000\");\"\"\"\n",
    "crsr.execute(a)\n",
    "cmd=\"SELECT*FROM ram\"\n",
    "crsr.execute(cmd)\n",
    "ans=fetchall()\n",
    "for i in ans:\n",
    "    print(i)\n",
    "connection.close()"
   ]
  },
  {
   "cell_type": "code",
   "execution_count": 33,
   "id": "18275cea",
   "metadata": {},
   "outputs": [
    {
     "ename": "AttributeError",
     "evalue": "'myfirstgui' object has no attribute 'Close'",
     "output_type": "error",
     "traceback": [
      "\u001b[1;31m---------------------------------------------------------------------------\u001b[0m",
      "\u001b[1;31mAttributeError\u001b[0m                            Traceback (most recent call last)",
      "\u001b[1;32m~\\AppData\\Local\\Temp/ipykernel_14188/3408967984.py\u001b[0m in \u001b[0;36m<module>\u001b[1;34m\u001b[0m\n\u001b[0;32m     16\u001b[0m         \u001b[0mprint\u001b[0m\u001b[1;33m(\u001b[0m\u001b[1;34m\"hello folks\"\u001b[0m\u001b[1;33m)\u001b[0m\u001b[1;33m\u001b[0m\u001b[1;33m\u001b[0m\u001b[0m\n\u001b[0;32m     17\u001b[0m \u001b[0mroot\u001b[0m \u001b[1;33m=\u001b[0m\u001b[0mTk\u001b[0m\u001b[1;33m(\u001b[0m\u001b[1;33m)\u001b[0m\u001b[1;33m\u001b[0m\u001b[1;33m\u001b[0m\u001b[0m\n\u001b[1;32m---> 18\u001b[1;33m \u001b[0mmy_gui\u001b[0m \u001b[1;33m=\u001b[0m \u001b[0mmyfirstgui\u001b[0m\u001b[1;33m(\u001b[0m\u001b[0mroot\u001b[0m\u001b[1;33m)\u001b[0m\u001b[1;33m\u001b[0m\u001b[1;33m\u001b[0m\u001b[0m\n\u001b[0m\u001b[0;32m     19\u001b[0m \u001b[0mroot\u001b[0m\u001b[1;33m.\u001b[0m\u001b[0mmainloop\u001b[0m\u001b[1;33m(\u001b[0m\u001b[1;33m)\u001b[0m\u001b[1;33m\u001b[0m\u001b[1;33m\u001b[0m\u001b[0m\n",
      "\u001b[1;32m~\\AppData\\Local\\Temp/ipykernel_14188/3408967984.py\u001b[0m in \u001b[0;36m__init__\u001b[1;34m(self, master)\u001b[0m\n\u001b[0;32m     10\u001b[0m         \u001b[0mself\u001b[0m\u001b[1;33m.\u001b[0m\u001b[0mgreet_Button\u001b[0m\u001b[1;33m=\u001b[0m\u001b[0mButton\u001b[0m\u001b[1;33m(\u001b[0m\u001b[0mmaster\u001b[0m\u001b[1;33m,\u001b[0m\u001b[0mtext\u001b[0m\u001b[1;33m=\u001b[0m\u001b[1;34m\"greet\"\u001b[0m\u001b[1;33m,\u001b[0m\u001b[0mcommand\u001b[0m\u001b[1;33m=\u001b[0m\u001b[0mself\u001b[0m\u001b[1;33m.\u001b[0m\u001b[0mgreet\u001b[0m\u001b[1;33m)\u001b[0m\u001b[1;33m\u001b[0m\u001b[1;33m\u001b[0m\u001b[0m\n\u001b[0;32m     11\u001b[0m         \u001b[0mself\u001b[0m\u001b[1;33m.\u001b[0m\u001b[0mgreet_Button\u001b[0m\u001b[1;33m.\u001b[0m\u001b[0mpack\u001b[0m\u001b[1;33m(\u001b[0m\u001b[1;33m)\u001b[0m\u001b[1;33m\u001b[0m\u001b[1;33m\u001b[0m\u001b[0m\n\u001b[1;32m---> 12\u001b[1;33m         \u001b[0mself\u001b[0m\u001b[1;33m.\u001b[0m\u001b[0mClose_Button\u001b[0m\u001b[1;33m=\u001b[0m\u001b[0mButton\u001b[0m\u001b[1;33m(\u001b[0m\u001b[0mmaster\u001b[0m\u001b[1;33m,\u001b[0m\u001b[0mtext\u001b[0m\u001b[1;33m=\u001b[0m\u001b[1;34m\"close\"\u001b[0m\u001b[1;33m,\u001b[0m\u001b[0mcommand\u001b[0m\u001b[1;33m=\u001b[0m\u001b[0mself\u001b[0m\u001b[1;33m.\u001b[0m\u001b[0mClose\u001b[0m\u001b[1;33m)\u001b[0m\u001b[1;33m\u001b[0m\u001b[1;33m\u001b[0m\u001b[0m\n\u001b[0m\u001b[0;32m     13\u001b[0m         \u001b[0mself\u001b[0m\u001b[1;33m.\u001b[0m\u001b[0mClose_Button\u001b[0m\u001b[1;33m.\u001b[0m\u001b[0mpack\u001b[0m\u001b[1;33m(\u001b[0m\u001b[1;33m)\u001b[0m\u001b[1;33m\u001b[0m\u001b[1;33m\u001b[0m\u001b[0m\n\u001b[0;32m     14\u001b[0m \u001b[1;33m\u001b[0m\u001b[0m\n",
      "\u001b[1;31mAttributeError\u001b[0m: 'myfirstgui' object has no attribute 'Close'"
     ]
    }
   ],
   "source": [
    "from tkinter import Tk, Label,Button\n",
    "class myfirstgui:\n",
    "    def __init__(self,master):\n",
    "        self.master =master\n",
    "        master.title(\"A simple GUI\")\n",
    "\n",
    "        self.Label =Label(master,text=\"This is our first  gui\")\n",
    "        self.Label.pack()\n",
    "\n",
    "        self.greet_Button=Button(master,text=\"greet\",command=self.greet)\n",
    "        self.greet_Button.pack()\n",
    "        self.Close_Button=Button(master,text=\"close\",command=self.Close)\n",
    "        self.Close_Button.pack()\n",
    "        \n",
    "    def greet(self):\n",
    "        print(\"hello folks\")\n",
    "root =Tk()\n",
    "my_gui = myfirstgui(root)\n",
    "root.mainloop()"
   ]
  },
  {
   "cell_type": "code",
   "execution_count": null,
   "id": "ee251790",
   "metadata": {},
   "outputs": [],
   "source": []
  }
 ],
 "metadata": {
  "kernelspec": {
   "display_name": "Python 3 (ipykernel)",
   "language": "python",
   "name": "python3"
  },
  "language_info": {
   "codemirror_mode": {
    "name": "ipython",
    "version": 3
   },
   "file_extension": ".py",
   "mimetype": "text/x-python",
   "name": "python",
   "nbconvert_exporter": "python",
   "pygments_lexer": "ipython3",
   "version": "3.9.7"
  }
 },
 "nbformat": 4,
 "nbformat_minor": 5
}
