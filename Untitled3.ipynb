{
 "cells": [
  {
   "cell_type": "code",
   "execution_count": 16,
   "id": "22eeac24",
   "metadata": {},
   "outputs": [
    {
     "name": "stdout",
     "output_type": "stream",
     "text": [
      "feedback analyzer\n",
      "enter the feedback : sir is good\n",
      "output: positive\n"
     ]
    }
   ],
   "source": [
    "print(\"feedback analyzer\")\n",
    "f=input(\"enter the feedback : \")\n",
    "list = f.rsplit(\" \")\n",
    "tuplepositive={\"good\", \"excellent\", \"super\", \"great\", \"fantastic\"}\n",
    "tuplenegative={\"bad\", \"worse\", \"worst\", \"pathetic\", \"poor\"}\n",
    "for item in list:\n",
    "    if tuplepositive.__contains__(item):\n",
    "        print(\"output: positive\")\n",
    "    elif tuplenegative.__contains__(item):\n",
    "        print(\"output: negative\")"
   ]
  },
  {
   "cell_type": "code",
   "execution_count": 26,
   "id": "ef513a0e",
   "metadata": {},
   "outputs": [
    {
     "name": "stdout",
     "output_type": "stream",
     "text": [
      "Enter the radius of sphere :2\n",
      "volume =  33.49333333333333 area =  50.24\n"
     ]
    }
   ],
   "source": [
    "r1=int(input(\"Enter the radius of sphere :\"))\n",
    "volume = lambda r: (4*3.14*r*r*r)/3\n",
    "area = lambda r: 4*3.14*r*r\n",
    "v = volume(r1)\n",
    "a = area(r1)\n",
    "print(\"volume = \",v,\"area = \",a)\n"
   ]
  },
  {
   "cell_type": "code",
   "execution_count": 27,
   "id": "024338d6",
   "metadata": {},
   "outputs": [
    {
     "name": "stdout",
     "output_type": "stream",
     "text": [
      "Enter register number 2\n",
      "None\n"
     ]
    }
   ],
   "source": [
    "r=(input(\"Enter register number \"))\n",
    "dict = {1:20, 2:30, 3:40, 4:50, 5:60}\n",
    "print(dict.get(r))\n",
    "\n"
   ]
  },
  {
   "cell_type": "code",
   "execution_count": null,
   "id": "10851729",
   "metadata": {},
   "outputs": [],
   "source": []
  }
 ],
 "metadata": {
  "kernelspec": {
   "display_name": "Python 3 (ipykernel)",
   "language": "python",
   "name": "python3"
  },
  "language_info": {
   "codemirror_mode": {
    "name": "ipython",
    "version": 3
   },
   "file_extension": ".py",
   "mimetype": "text/x-python",
   "name": "python",
   "nbconvert_exporter": "python",
   "pygments_lexer": "ipython3",
   "version": "3.9.7"
  }
 },
 "nbformat": 4,
 "nbformat_minor": 5
}
