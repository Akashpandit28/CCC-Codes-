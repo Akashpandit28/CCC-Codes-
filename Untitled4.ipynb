{
 "cells": [
  {
   "cell_type": "code",
   "execution_count": 1,
   "id": "bee7f845",
   "metadata": {},
   "outputs": [
    {
     "name": "stdout",
     "output_type": "stream",
     "text": [
      "enter the number of student1\n",
      "enter student input2011027010122\n",
      "Enter nameAkash kumar pandit\n",
      "enter deptcse\n",
      "enter mark120\n",
      "enter mark2202\n",
      "enter mark3202\n",
      "enter mark4202\n",
      "enter mark523\n",
      "Reg no.= 2011027010122 \n",
      " Name =  Akash kumar pandit \n",
      " Total Marks is  649.0 \n",
      " Percentage =  129.8 %\n",
      " grade =  Distinction\n"
     ]
    }
   ],
   "source": [
    "n=int(input(\"enter the number of student\"))\n",
    "dict1={}\n",
    "for i in range(n):\n",
    "    regno=int(input(\"enter student input\"))\n",
    "    Name=input(\"Enter name\")\n",
    "    dept=input(\"enter dept\")\n",
    "    Mark1=float(input(\"enter mark1\"))\n",
    "    Mark2=float(input(\"enter mark2\"))\n",
    "    Mark3=float(input(\"enter mark3\"))\n",
    "    Mark4=float(input(\"enter mark4\"))\n",
    "    Mark5=float(input(\"enter mark5\"))\n",
    "    total=Mark1+Mark2+Mark3+Mark4+Mark5\n",
    "    ave=total/5\n",
    "    percentage=ave\n",
    "    d=\"\"\n",
    "    if ave>=80:\n",
    "        d=\"Distinction\"\n",
    "    elif ave>=65 and ave<80:\n",
    "        d=\"Merit\"\n",
    "    elif ave>=50 and ave<65:\n",
    "        d=\"Pass\"\n",
    "    else:\n",
    "        d=\"Fail\"\n",
    "    dict1[regno]=[Name,total,percentage,d]\n",
    "for key, value in dict1.items():\n",
    "    print(\"Reg no.=\",key,\"\\n\", 'Name = ',value[0],\"\\n\",\"Total Marks is \",value[1],\"\\n\",\"Percentage = \",value[2],\"%\\n\",\"grade = \",value[3])\n",
    "    \n",
    "    \n"
   ]
  },
  {
   "cell_type": "code",
   "execution_count": 2,
   "id": "b7036332",
   "metadata": {},
   "outputs": [
    {
     "name": "stdout",
     "output_type": "stream",
     "text": [
      "enter the number of student1\n",
      "Enter student number12\n",
      "enter mark198\n",
      "enter mark299\n",
      "enter mark396\n",
      "enter mark490\n",
      "enter mark599\n",
      "12  :  Distinction\n"
     ]
    }
   ],
   "source": [
    "n=int(input(\"enter the number of student\"))\n",
    "dict1={}\n",
    "for i in range(n):\n",
    "    studentnum=int(input(\"Enter student number\"))\n",
    "    Mark1=float(input(\"enter mark1\"))\n",
    "    Mark2=float(input(\"enter mark2\"))\n",
    "    Mark3=float(input(\"enter mark3\"))\n",
    "    Mark4=float(input(\"enter mark4\"))\n",
    "    Mark5=float(input(\"enter mark5\"))\n",
    "    ave=(Mark1+Mark2+Mark3+Mark4+Mark5)/5\n",
    "    d=\"\"\n",
    "    if ave>=80:\n",
    "        d=\"Distinction\"\n",
    "    elif ave>=65 and ave<80:\n",
    "        d=\"Merit\"\n",
    "    elif ave>=50 and ave<65:\n",
    "        d=\"Pass\"\n",
    "    else:\n",
    "        d=\"Fail\"\n",
    "    dict1[studentnum]=d\n",
    "for key, value in dict1.items():\n",
    "    print(key, ' : ', value)\n"
   ]
  },
  {
   "cell_type": "code",
   "execution_count": 4,
   "id": "c4050a02",
   "metadata": {},
   "outputs": [
    {
     "name": "stdout",
     "output_type": "stream",
     "text": [
      "Enter string:ab\n",
      "Enter string:ababababab\n",
      "Count is: 0\n"
     ]
    }
   ],
   "source": [
    "enterstring=input(\"Enter string:\")\n",
    "key = input(\"Enter string:\")\n",
    "p=enterstring.count(key)\n",
    "print(\"Count is:\",p)\n"
   ]
  },
  {
   "cell_type": "code",
   "execution_count": 5,
   "id": "e75a6b44",
   "metadata": {},
   "outputs": [
    {
     "name": "stdout",
     "output_type": "stream",
     "text": [
      "enter any value20\n",
      "0\n"
     ]
    }
   ],
   "source": [
    "k=input(\"enter any value\")\n",
    "list1=k.split()\n",
    "count=0\n",
    "for i in range(0,len(list1)):\n",
    "    p=len(list1[0])\n",
    "    if p>=2 and list1[i][0]==list1[i][p-1]:\n",
    "        count+=1\n",
    "print(count)\n",
    "        \n"
   ]
  },
  {
   "cell_type": "code",
   "execution_count": 6,
   "id": "e141e0f6",
   "metadata": {},
   "outputs": [
    {
     "name": "stdout",
     "output_type": "stream",
     "text": [
      "enter the list25\n",
      "the maximum value is 25\n",
      "the minimum value is 25\n"
     ]
    }
   ],
   "source": [
    "p=input(\"enter the list\")\n",
    "list2=[int(x) for x in p.split()]\n",
    "print(\"the maximum value is\",max(list2))\n",
    "print(\"the minimum value is\",min(list2))\n"
   ]
  },
  {
   "cell_type": "code",
   "execution_count": null,
   "id": "bb3e5932",
   "metadata": {},
   "outputs": [],
   "source": []
  }
 ],
 "metadata": {
  "kernelspec": {
   "display_name": "Python 3 (ipykernel)",
   "language": "python",
   "name": "python3"
  },
  "language_info": {
   "codemirror_mode": {
    "name": "ipython",
    "version": 3
   },
   "file_extension": ".py",
   "mimetype": "text/x-python",
   "name": "python",
   "nbconvert_exporter": "python",
   "pygments_lexer": "ipython3",
   "version": "3.9.7"
  }
 },
 "nbformat": 4,
 "nbformat_minor": 5
}
