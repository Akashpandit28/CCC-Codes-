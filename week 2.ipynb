{
 "cells": [
  {
   "cell_type": "code",
   "execution_count": 2,
   "id": "f225a3ea",
   "metadata": {},
   "outputs": [
    {
     "name": "stdout",
     "output_type": "stream",
     "text": [
      "feedback analyzer\n",
      "enter the feedback : item is discountinued\n",
      "Error 122\n",
      "Error 122\n",
      "Error 122\n"
     ]
    }
   ],
   "source": [
    "print(\"feedback analyzer\")\n",
    "f=input(\"enter the feedback : \")\n",
    "list = f.rsplit(\" \")\n",
    "tuplepositive={\"good\", \"excellent\", \"super\", \"great\", \"fantastic\"}\n",
    "tuplenegative={\"bad\", \"worse\", \"worst\", \"pathetic\", \"poor\"}\n",
    "for item in list:\n",
    "    if tuplepositive.__contains__(item):\n",
    "        print(\"output: positive\")\n",
    "    elif tuplenegative.__contains__(item):\n",
    "        print(\"output: negative\")\n",
    "    else:\n",
    "        print(\"Error 122\")"
   ]
  },
  {
   "cell_type": "code",
   "execution_count": 9,
   "id": "712f37dc",
   "metadata": {},
   "outputs": [
    {
     "name": "stdout",
     "output_type": "stream",
     "text": [
      "Enter the radius of sphere :5.6\n",
      "volume =  735.2456533333333 area =  393.8816\n"
     ]
    }
   ],
   "source": [
    "r1=float(input(\"Enter the radius of sphere :\"))\n",
    "volume = lambda r: (4*3.14*r*r*r)/3\n",
    "area = lambda r: 4*3.14*r*r\n",
    "v = volume(r1)\n",
    "a = area(r1)\n",
    "print(\"volume = \",v,\"area = \",a)\n"
   ]
  },
  {
   "cell_type": "code",
   "execution_count": 29,
   "id": "f5f886ae",
   "metadata": {},
   "outputs": [
    {
     "name": "stdout",
     "output_type": "stream",
     "text": [
      "Enter register number 2\n",
      "30\n"
     ]
    }
   ],
   "source": [
    "r=int(input(\"Enter register number \"))\n",
    "dict = {1:20, 2:30, 3:40, 4:50, 5:60}\n",
    "print(dict.get(r))\n",
    "\n"
   ]
  },
  {
   "cell_type": "code",
   "execution_count": 10,
   "id": "54aff562",
   "metadata": {},
   "outputs": [
    {
     "name": "stdout",
     "output_type": "stream",
     "text": [
      "52\n",
      "25\n",
      "42\n"
     ]
    }
   ],
   "source": [
    "pixel=int(input())\n",
    "key=int(input())\n",
    "key=(key+5)%256\n",
    "for i in range(0,5):\n",
    "    temp_pixel=pixel^key\n",
    "    pixel=temp_pixel\n",
    "print(pixel)"
   ]
  },
  {
   "cell_type": "code",
   "execution_count": 13,
   "id": "4d517023",
   "metadata": {},
   "outputs": [
    {
     "name": "stdout",
     "output_type": "stream",
     "text": [
      "Text: abcdef\n",
      "Shift: 3\n",
      " defghi\n"
     ]
    }
   ],
   "source": [
    "def encrypt(msg,n):\n",
    "    result = \"\"\n",
    "    for i in range(len(msg)):\n",
    "        char =msg[i]\n",
    "        if(char.isupper()):\n",
    "            result+=chr((ord(char)+n-65)%26+65)\n",
    "        else:       \n",
    "            result+=chr((ord(char)+n-97)%26+97)\n",
    "    return result\n",
    "msg=input(\"Text: \")\n",
    "n=int(input(\"Shift: \"))\n",
    "print(\"\",encrypt(msg, n))"
   ]
  },
  {
   "cell_type": "code",
   "execution_count": null,
   "id": "ce355793",
   "metadata": {},
   "outputs": [],
   "source": []
  },
  {
   "cell_type": "code",
   "execution_count": null,
   "id": "30ad1559",
   "metadata": {},
   "outputs": [],
   "source": []
  }
 ],
 "metadata": {
  "kernelspec": {
   "display_name": "Python 3 (ipykernel)",
   "language": "python",
   "name": "python3"
  },
  "language_info": {
   "codemirror_mode": {
    "name": "ipython",
    "version": 3
   },
   "file_extension": ".py",
   "mimetype": "text/x-python",
   "name": "python",
   "nbconvert_exporter": "python",
   "pygments_lexer": "ipython3",
   "version": "3.9.7"
  }
 },
 "nbformat": 4,
 "nbformat_minor": 5
}
